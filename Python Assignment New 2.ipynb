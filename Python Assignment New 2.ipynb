{
 "cells": [
  {
   "cell_type": "code",
   "execution_count": 7,
   "id": "aaede4d0-55a5-4756-9c49-27cb5b1e7280",
   "metadata": {},
   "outputs": [],
   "source": [
    "#1.\n",
    "def check_password():\n",
    "    password = input('Enter your password:')\n",
    "    if len(password) != 10:\n",
    "        return \"Invalid Password\"\n",
    "    \n",
    "    uppercase = 0\n",
    "    lowercase = 0\n",
    "    digit = 0\n",
    "    special = 0\n",
    "    special_chars = set(\"!@#$%^&*()_+{}:\\\"<>?|\")\n",
    "\n",
    "    for char in password:\n",
    "        if char.isupper():\n",
    "            uppercase = uppercase + 1\n",
    "        elif char.islower():\n",
    "            lowercase = lowercase + 1\n",
    "        elif char.isdigit():\n",
    "            digit = digit + 1\n",
    "        elif char in special_chars:\n",
    "            special = special + 1\n",
    "\n",
    "    if uppercase >= 2 and lowercase >= 2 and digit >= 1 and special >= 3:\n",
    "        return \"Valid Password\"\n",
    "    else:\n",
    "        return \"Invalid Password\""
   ]
  },
  {
   "cell_type": "code",
   "execution_count": 9,
   "id": "a5dbd6b6-b5d5-4fa9-a5d8-6fb5b00ae423",
   "metadata": {},
   "outputs": [
    {
     "name": "stdin",
     "output_type": "stream",
     "text": [
      "Enter your password: Jausd8y\n"
     ]
    },
    {
     "data": {
      "text/plain": [
       "'Invalid Password'"
      ]
     },
     "execution_count": 9,
     "metadata": {},
     "output_type": "execute_result"
    }
   ],
   "source": [
    "check_password()"
   ]
  },
  {
   "cell_type": "code",
   "execution_count": 4,
   "id": "65bb1d8f-d096-464c-9544-4d46a85fb4aa",
   "metadata": {},
   "outputs": [
    {
     "name": "stdout",
     "output_type": "stream",
     "text": [
      "['banana', 'blueberry']\n"
     ]
    }
   ],
   "source": [
    "#2. Check if the string starts with a particular letter\n",
    "\n",
    "a = [\"apple\", \"banana\", \"cherry\", \"grape\", \"blueberry\"]\n",
    "\n",
    "b = list(filter(lambda x: x.startswith('b'), a))\n",
    "\n",
    "print (b)"
   ]
  },
  {
   "cell_type": "code",
   "execution_count": 9,
   "id": "cdf512ca-9e97-4a03-9ea3-5c370c647de2",
   "metadata": {},
   "outputs": [
    {
     "name": "stdout",
     "output_type": "stream",
     "text": [
      "['256', '89']\n"
     ]
    }
   ],
   "source": [
    "#2. Check if the string is numeric\n",
    "\n",
    "a = ['jay', '256', 'he', '89', '45.6', 'she']\n",
    "\n",
    "b = list(filter(lambda x: x.isdigit(), a))\n",
    "\n",
    "print(b)"
   ]
  },
  {
   "cell_type": "code",
   "execution_count": 23,
   "id": "05837921-362f-430a-959f-6da9748fb138",
   "metadata": {},
   "outputs": [
    {
     "name": "stdout",
     "output_type": "stream",
     "text": [
      "[('orange', 80), ('mango', 99), ('grapes', 1000)]\n"
     ]
    }
   ],
   "source": [
    "#2. Sort a list of tuples having fruit names and their quantity. [(\"mango\",99),(\"orange\",80), (\"grapes\", 1000)].\n",
    "\n",
    "fruit_list = [(\"mango\", 99), (\"orange\", 80), (\"grapes\", 1000)]\n",
    "\n",
    "sorted_list = sorted(fruit_list, key=lambda x: x[1])\n",
    "\n",
    "print(sorted_list)"
   ]
  },
  {
   "cell_type": "code",
   "execution_count": 11,
   "id": "1e14bc68-b5f9-4bd2-98f0-980261a37167",
   "metadata": {},
   "outputs": [
    {
     "name": "stdout",
     "output_type": "stream",
     "text": [
      "[1, 4, 9, 16, 25, 36, 49, 64, 81, 100]\n"
     ]
    }
   ],
   "source": [
    "#2. Find the squares of numbers from 1 to 10\n",
    "a = [i**2 for i in range(1, 11)]\n",
    "\n",
    "print(a)"
   ]
  },
  {
   "cell_type": "code",
   "execution_count": 14,
   "id": "1b29a949-6d64-4ee5-aeb7-ca16c71c030c",
   "metadata": {},
   "outputs": [
    {
     "name": "stdout",
     "output_type": "stream",
     "text": [
      "[1, 8, 27, 64, 125, 216, 343, 512, 729, 1000]\n"
     ]
    }
   ],
   "source": [
    "#2. Find the cube root of numbers from 1 to 10\n",
    "a = [i**3 for i in range (1,11)]\n",
    "\n",
    "print(a)"
   ]
  },
  {
   "cell_type": "code",
   "execution_count": 17,
   "id": "321ba22e-00d7-487f-af4e-9e8c449ba7ef",
   "metadata": {},
   "outputs": [
    {
     "name": "stdin",
     "output_type": "stream",
     "text": [
      "Enter any number: 985621432\n"
     ]
    },
    {
     "name": "stdout",
     "output_type": "stream",
     "text": [
      "True\n"
     ]
    }
   ],
   "source": [
    "#2. Check if a given number is even\n",
    "\n",
    "number = int(input('Enter any number:'))\n",
    "\n",
    "m = list(map(lambda x: x % 2 == 0, [number]))\n",
    "\n",
    "result = any(m)\n",
    "\n",
    "print(result)"
   ]
  },
  {
   "cell_type": "code",
   "execution_count": 18,
   "id": "994f7c8b-4563-4010-baba-0052ba294d67",
   "metadata": {},
   "outputs": [
    {
     "name": "stdout",
     "output_type": "stream",
     "text": [
      "[1, 3, 5, 7, 9]\n"
     ]
    }
   ],
   "source": [
    "#2. Filter odd numbers from the given list, [1,2,3,4,5,6,7,8,9,10].\n",
    "\n",
    "a= [1,2,3,4,5,6,7,8,9,10]\n",
    "\n",
    "filtered_list = list(filter(lambda x: x%2 !=0, a))\n",
    "\n",
    "print (filtered_list)\n",
    "\n",
    "            "
   ]
  },
  {
   "cell_type": "code",
   "execution_count": 22,
   "id": "5ebacd97-e482-497d-9fb2-9cf33b1be42b",
   "metadata": {},
   "outputs": [
    {
     "name": "stdout",
     "output_type": "stream",
     "text": [
      "Positive Integers: [1, 2, 3, 4, 5, 6, 0]\n",
      "Negative Integers: [-1, -2, -3, -4, -5]\n"
     ]
    }
   ],
   "source": [
    "#2. Sort a list of integers into positive and negative integers lists, [1,2,3,4,5,6,-1,-2,-3,-4,-5,0].\n",
    "\n",
    "a = [1,2,3,4,5,6,-1,-2,-3,-4,-5,0]\n",
    "\n",
    "positive = list(filter(lambda x: x>=0, a))\n",
    "\n",
    "negative = list(filter(lambda x: x<0, a))\n",
    "\n",
    "print ('Positive Integers:', positive)\n",
    "print ('Negative Integers:', negative)\n",
    " "
   ]
  },
  {
   "cell_type": "code",
   "execution_count": null,
   "id": "48654b57-2372-4515-a7cc-8104931d316a",
   "metadata": {},
   "outputs": [],
   "source": [
    "\n",
    "                                                              "
   ]
  }
 ],
 "metadata": {
  "kernelspec": {
   "display_name": "Python 3 (ipykernel)",
   "language": "python",
   "name": "python3"
  },
  "language_info": {
   "codemirror_mode": {
    "name": "ipython",
    "version": 3
   },
   "file_extension": ".py",
   "mimetype": "text/x-python",
   "name": "python",
   "nbconvert_exporter": "python",
   "pygments_lexer": "ipython3",
   "version": "3.10.8"
  }
 },
 "nbformat": 4,
 "nbformat_minor": 5
}
